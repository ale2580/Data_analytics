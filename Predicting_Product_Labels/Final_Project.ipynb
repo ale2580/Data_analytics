{
 "cells": [
  {
   "cell_type": "markdown",
   "metadata": {},
   "source": [
    "# Setup"
   ]
  },
  {
   "cell_type": "code",
   "execution_count": 1,
   "metadata": {},
   "outputs": [],
   "source": [
    "import pandas as pd\n",
    "import string\n",
    "import nltk\n",
    "from nltk.corpus import stopwords\n",
    "import seaborn as sns\n",
    "import matplotlib.pyplot as plt\n",
    "%matplotlib inline"
   ]
  },
  {
   "cell_type": "code",
   "execution_count": 2,
   "metadata": {},
   "outputs": [],
   "source": [
    "train = pd.read_csv(\"train.csv\")\n",
    "test = pd.read_csv('test.csv')"
   ]
  },
  {
   "cell_type": "code",
   "execution_count": 3,
   "metadata": {},
   "outputs": [
    {
     "data": {
      "text/html": [
       "<div>\n",
       "<style scoped>\n",
       "    .dataframe tbody tr th:only-of-type {\n",
       "        vertical-align: middle;\n",
       "    }\n",
       "\n",
       "    .dataframe tbody tr th {\n",
       "        vertical-align: top;\n",
       "    }\n",
       "\n",
       "    .dataframe thead th {\n",
       "        text-align: right;\n",
       "    }\n",
       "</style>\n",
       "<table border=\"1\" class=\"dataframe\">\n",
       "  <thead>\n",
       "    <tr style=\"text-align: right;\">\n",
       "      <th></th>\n",
       "      <th>sku_id</th>\n",
       "      <th>country_name</th>\n",
       "      <th>retailer</th>\n",
       "      <th>breadcrumbs</th>\n",
       "      <th>breadcrumbs_t</th>\n",
       "      <th>name</th>\n",
       "      <th>name_t</th>\n",
       "      <th>pack_size</th>\n",
       "      <th>pack_size_t</th>\n",
       "      <th>description_short</th>\n",
       "      <th>description_t_short</th>\n",
       "      <th>resnet50_labels_005</th>\n",
       "      <th>resnet50_labels_06</th>\n",
       "      <th>price</th>\n",
       "      <th>label</th>\n",
       "      <th>label_id</th>\n",
       "    </tr>\n",
       "  </thead>\n",
       "  <tbody>\n",
       "    <tr>\n",
       "      <th>0</th>\n",
       "      <td>22790</td>\n",
       "      <td>USA</td>\n",
       "      <td>amazon</td>\n",
       "      <td>[\"\"Beauty &amp; Personal Care\"\",\"\"Tools &amp; Accessor...</td>\n",
       "      <td>[\"\"Beauty &amp; Personal Care\"\",\"\"Tools &amp; Accessor...</td>\n",
       "      <td>Q-tips Cotton Swabs, 170 ct</td>\n",
       "      <td>Q-tips Cotton Swabs, 170 ct</td>\n",
       "      <td>NaN</td>\n",
       "      <td>NaN</td>\n",
       "      <td>q-tips cotton swabs have a wide variety of use...</td>\n",
       "      <td>q-tips cotton swabs have a wide variety of use...</td>\n",
       "      <td>Band_Aid~can_opener~screwdriver</td>\n",
       "      <td>NaN</td>\n",
       "      <td>2.01000</td>\n",
       "      <td>OUT OF SCOPE</td>\n",
       "      <td>1</td>\n",
       "    </tr>\n",
       "    <tr>\n",
       "      <th>1</th>\n",
       "      <td>60540</td>\n",
       "      <td>USA</td>\n",
       "      <td>Chewy</td>\n",
       "      <td>[\"\"Dog\"\",\"\"Bowls &amp; Feeders\"\",\"\"Fountains &amp; Fil...</td>\n",
       "      <td>[\"\"Dog\"\",\"\"Bowls &amp; Feeders\"\",\"\"Fountains &amp; Fil...</td>\n",
       "      <td>Petmate Fresh Flow Replacement Filters, 6 count</td>\n",
       "      <td>Petmate Fresh Flow Replacement Filters, 6 count</td>\n",
       "      <td>8.3                         x 0.6             ...</td>\n",
       "      <td>8.3                         x 0.6             ...</td>\n",
       "      <td>description the petmate deluxe fresh flow repl...</td>\n",
       "      <td>description the petmate deluxe fresh flow repl...</td>\n",
       "      <td>Band_Aid~web_site</td>\n",
       "      <td>NaN</td>\n",
       "      <td>7.00000</td>\n",
       "      <td>OUT OF SCOPE</td>\n",
       "      <td>1</td>\n",
       "    </tr>\n",
       "    <tr>\n",
       "      <th>2</th>\n",
       "      <td>96170</td>\n",
       "      <td>United Kingdom</td>\n",
       "      <td>Asda</td>\n",
       "      <td>[\"\"Free From\"\",\"\"Free From Chilled &amp; Meat\"\",\"\"...</td>\n",
       "      <td>[\"\"Free From\"\",\"\"Free From Chilled &amp; Meat\"\",\"\"...</td>\n",
       "      <td>ASDA Free From Plain Soya Yogurt</td>\n",
       "      <td>ASDA Free From Plain Soya Yogurt</td>\n",
       "      <td>500g</td>\n",
       "      <td>500g</td>\n",
       "      <td>net content 500 grams ℮ lifestyle suitable for...</td>\n",
       "      <td>net content 500 grams ℮ lifestyle suitable for...</td>\n",
       "      <td>lotion~sunscreen</td>\n",
       "      <td>sunscreen</td>\n",
       "      <td>1.26185</td>\n",
       "      <td>Plain Yoghurt</td>\n",
       "      <td>7</td>\n",
       "    </tr>\n",
       "    <tr>\n",
       "      <th>3</th>\n",
       "      <td>116045</td>\n",
       "      <td>USA</td>\n",
       "      <td>jet.com</td>\n",
       "      <td>[\"\"Pantry &amp; Household\"\",\"\"Household Supplies\"\"...</td>\n",
       "      <td>[\"\"Pantry &amp; Household\"\",\"\"Household Supplies\"\"...</td>\n",
       "      <td>Off! Deep Woods Dry Aerosol, 4 Oz</td>\n",
       "      <td>Off! Deep Woods Dry Aerosol, 4 Oz</td>\n",
       "      <td>12</td>\n",
       "      <td>12</td>\n",
       "      <td>description specs includes 25% deet formula. p...</td>\n",
       "      <td>description specs includes 25% deet formula. p...</td>\n",
       "      <td>can_opener~face_powder~oil_filter~tennis_ball</td>\n",
       "      <td>NaN</td>\n",
       "      <td>6.21000</td>\n",
       "      <td>OUT OF SCOPE</td>\n",
       "      <td>1</td>\n",
       "    </tr>\n",
       "    <tr>\n",
       "      <th>4</th>\n",
       "      <td>120858</td>\n",
       "      <td>USA</td>\n",
       "      <td>CVS</td>\n",
       "      <td>[\"\"Vitamins\"\",\"\"Herbals\"\"]</td>\n",
       "      <td>[\"\"Vitamins\"\",\"\"Herbals\"\"]</td>\n",
       "      <td>Nature's Answer Damiana Leaf Vegetarian Capsul...</td>\n",
       "      <td>Nature's Answer Damiana Leaf Vegetarian Capsul...</td>\n",
       "      <td>90 CT</td>\n",
       "      <td>90 CT</td>\n",
       "      <td>nature's answer capsules feature the highest q...</td>\n",
       "      <td>nature's answer capsules feature the highest q...</td>\n",
       "      <td>face_powder~pill_bottle~sunscreen</td>\n",
       "      <td>pill_bottle</td>\n",
       "      <td>8.49000</td>\n",
       "      <td>OUT OF SCOPE</td>\n",
       "      <td>1</td>\n",
       "    </tr>\n",
       "  </tbody>\n",
       "</table>\n",
       "</div>"
      ],
      "text/plain": [
       "   sku_id    country_name retailer  \\\n",
       "0   22790             USA   amazon   \n",
       "1   60540             USA    Chewy   \n",
       "2   96170  United Kingdom     Asda   \n",
       "3  116045             USA  jet.com   \n",
       "4  120858             USA      CVS   \n",
       "\n",
       "                                         breadcrumbs  \\\n",
       "0  [\"\"Beauty & Personal Care\"\",\"\"Tools & Accessor...   \n",
       "1  [\"\"Dog\"\",\"\"Bowls & Feeders\"\",\"\"Fountains & Fil...   \n",
       "2  [\"\"Free From\"\",\"\"Free From Chilled & Meat\"\",\"\"...   \n",
       "3  [\"\"Pantry & Household\"\",\"\"Household Supplies\"\"...   \n",
       "4                         [\"\"Vitamins\"\",\"\"Herbals\"\"]   \n",
       "\n",
       "                                       breadcrumbs_t  \\\n",
       "0  [\"\"Beauty & Personal Care\"\",\"\"Tools & Accessor...   \n",
       "1  [\"\"Dog\"\",\"\"Bowls & Feeders\"\",\"\"Fountains & Fil...   \n",
       "2  [\"\"Free From\"\",\"\"Free From Chilled & Meat\"\",\"\"...   \n",
       "3  [\"\"Pantry & Household\"\",\"\"Household Supplies\"\"...   \n",
       "4                         [\"\"Vitamins\"\",\"\"Herbals\"\"]   \n",
       "\n",
       "                                                name  \\\n",
       "0                        Q-tips Cotton Swabs, 170 ct   \n",
       "1    Petmate Fresh Flow Replacement Filters, 6 count   \n",
       "2                   ASDA Free From Plain Soya Yogurt   \n",
       "3                  Off! Deep Woods Dry Aerosol, 4 Oz   \n",
       "4  Nature's Answer Damiana Leaf Vegetarian Capsul...   \n",
       "\n",
       "                                              name_t  \\\n",
       "0                        Q-tips Cotton Swabs, 170 ct   \n",
       "1    Petmate Fresh Flow Replacement Filters, 6 count   \n",
       "2                   ASDA Free From Plain Soya Yogurt   \n",
       "3                  Off! Deep Woods Dry Aerosol, 4 Oz   \n",
       "4  Nature's Answer Damiana Leaf Vegetarian Capsul...   \n",
       "\n",
       "                                           pack_size  \\\n",
       "0                                                NaN   \n",
       "1  8.3                         x 0.6             ...   \n",
       "2                                               500g   \n",
       "3                                                 12   \n",
       "4                                              90 CT   \n",
       "\n",
       "                                         pack_size_t  \\\n",
       "0                                                NaN   \n",
       "1  8.3                         x 0.6             ...   \n",
       "2                                               500g   \n",
       "3                                                 12   \n",
       "4                                              90 CT   \n",
       "\n",
       "                                   description_short  \\\n",
       "0  q-tips cotton swabs have a wide variety of use...   \n",
       "1  description the petmate deluxe fresh flow repl...   \n",
       "2  net content 500 grams ℮ lifestyle suitable for...   \n",
       "3  description specs includes 25% deet formula. p...   \n",
       "4  nature's answer capsules feature the highest q...   \n",
       "\n",
       "                                 description_t_short  \\\n",
       "0  q-tips cotton swabs have a wide variety of use...   \n",
       "1  description the petmate deluxe fresh flow repl...   \n",
       "2  net content 500 grams ℮ lifestyle suitable for...   \n",
       "3  description specs includes 25% deet formula. p...   \n",
       "4  nature's answer capsules feature the highest q...   \n",
       "\n",
       "                             resnet50_labels_005 resnet50_labels_06    price  \\\n",
       "0                Band_Aid~can_opener~screwdriver                NaN  2.01000   \n",
       "1                              Band_Aid~web_site                NaN  7.00000   \n",
       "2                               lotion~sunscreen          sunscreen  1.26185   \n",
       "3  can_opener~face_powder~oil_filter~tennis_ball                NaN  6.21000   \n",
       "4              face_powder~pill_bottle~sunscreen        pill_bottle  8.49000   \n",
       "\n",
       "           label  label_id  \n",
       "0   OUT OF SCOPE         1  \n",
       "1   OUT OF SCOPE         1  \n",
       "2  Plain Yoghurt         7  \n",
       "3   OUT OF SCOPE         1  \n",
       "4   OUT OF SCOPE         1  "
      ]
     },
     "execution_count": 3,
     "metadata": {},
     "output_type": "execute_result"
    }
   ],
   "source": [
    "train.head(5)\n"
   ]
  },
  {
   "cell_type": "code",
   "execution_count": 4,
   "metadata": {},
   "outputs": [
    {
     "name": "stdout",
     "output_type": "stream",
     "text": [
      "<class 'pandas.core.frame.DataFrame'>\n",
      "RangeIndex: 3983 entries, 0 to 3982\n",
      "Data columns (total 16 columns):\n",
      " #   Column               Non-Null Count  Dtype  \n",
      "---  ------               --------------  -----  \n",
      " 0   sku_id               3983 non-null   int64  \n",
      " 1   country_name         3983 non-null   object \n",
      " 2   retailer             3983 non-null   object \n",
      " 3   breadcrumbs          3983 non-null   object \n",
      " 4   breadcrumbs_t        3983 non-null   object \n",
      " 5   name                 3983 non-null   object \n",
      " 6   name_t               3983 non-null   object \n",
      " 7   pack_size            689 non-null    object \n",
      " 8   pack_size_t          688 non-null    object \n",
      " 9   description_short    3004 non-null   object \n",
      " 10  description_t_short  3003 non-null   object \n",
      " 11  resnet50_labels_005  3892 non-null   object \n",
      " 12  resnet50_labels_06   1308 non-null   object \n",
      " 13  price                3820 non-null   float64\n",
      " 14  label                3983 non-null   object \n",
      " 15  label_id             3983 non-null   int64  \n",
      "dtypes: float64(1), int64(2), object(13)\n",
      "memory usage: 498.0+ KB\n"
     ]
    }
   ],
   "source": [
    "train.info()"
   ]
  },
  {
   "cell_type": "code",
   "execution_count": 5,
   "metadata": {},
   "outputs": [],
   "source": [
    "#Keeping only translated columns\n",
    "train.drop([\"breadcrumbs\",\"name\",\"pack_size\", \"description_short\"],axis=1,inplace=True)\n",
    "test.drop([\"breadcrumbs\",\"name\",\"pack_size\", \"description_short\"],axis=1,inplace=True)"
   ]
  },
  {
   "cell_type": "markdown",
   "metadata": {},
   "source": [
    "#### Checking for null values"
   ]
  },
  {
   "cell_type": "code",
   "execution_count": 6,
   "metadata": {},
   "outputs": [
    {
     "name": "stdout",
     "output_type": "stream",
     "text": [
      "sku_id                    0\n",
      "country_name              0\n",
      "retailer                  0\n",
      "breadcrumbs_t             0\n",
      "name_t                    0\n",
      "pack_size_t            3295\n",
      "description_t_short     980\n",
      "resnet50_labels_005      91\n",
      "resnet50_labels_06     2675\n",
      "price                   163\n",
      "label                     0\n",
      "label_id                  0\n",
      "dtype: int64\n"
     ]
    }
   ],
   "source": [
    "print(train.isna().sum(axis=0))"
   ]
  },
  {
   "cell_type": "code",
   "execution_count": 7,
   "metadata": {},
   "outputs": [
    {
     "name": "stdout",
     "output_type": "stream",
     "text": [
      "sku_id                   0\n",
      "country_name             0\n",
      "retailer                 0\n",
      "breadcrumbs_t            0\n",
      "name_t                   0\n",
      "pack_size_t            791\n",
      "description_t_short    245\n",
      "resnet50_labels_005     30\n",
      "resnet50_labels_06     683\n",
      "price                   35\n",
      "dtype: int64\n"
     ]
    }
   ],
   "source": [
    "print(test.isna().sum(axis=0))"
   ]
  },
  {
   "cell_type": "markdown",
   "metadata": {},
   "source": [
    "Quite a few values show up as NaN. Let's fill the NaN values of the description_t collumn with a respective name_t value."
   ]
  },
  {
   "cell_type": "code",
   "execution_count": 8,
   "metadata": {},
   "outputs": [],
   "source": [
    "train['description_t_short'].fillna(train.name_t,inplace=True)\n",
    "test['description_t_short'].fillna(test.name_t,inplace=True)\n",
    "\n",
    "\n"
   ]
  },
  {
   "cell_type": "code",
   "execution_count": 9,
   "metadata": {},
   "outputs": [
    {
     "data": {
      "image/png": "[encoded data removed]",
      "text/plain": [
       "<Figure size 864x360 with 1 Axes>"
      ]
     },
     "metadata": {
      "needs_background": "light"
     },
     "output_type": "display_data"
    }
   ],
   "source": [
    "fig, ax = plt.subplots(figsize = (12,5))\n",
    "sns.countplot(x=train[\"label\"],ax=ax)\n",
    "plt.tight_layout()"
   ]
  },
  {
   "cell_type": "markdown",
   "metadata": {},
   "source": [
    "The distribution of labels is severely skewed which might make it difficult to classify."
   ]
  },
  {
   "cell_type": "markdown",
   "metadata": {},
   "source": [
    "## Defining functions"
   ]
  },
  {
   "cell_type": "markdown",
   "metadata": {},
   "source": [
    "A function to remove emojis and other symbols from a string"
   ]
  },
  {
   "cell_type": "code",
   "execution_count": 10,
   "metadata": {},
   "outputs": [],
   "source": [
    "\n",
    "import re\n",
    "def remove_emoji(s):\n",
    "    emoji_pattern = re.compile(\"[\"\n",
    "        u\"\\U0001F600-\\U0001F64F\"  # emoticons\n",
    "        u\"\\U0001F300-\\U0001F5FF\"  # symbols & pictographs\n",
    "        u\"\\U0001F680-\\U0001F6FF\"  # transport & map symbols\n",
    "        u\"\\U0001F1E0-\\U0001F1FF\"  #flags ios\n",
    "        u\"\\U00002702-\\U000027B0\"\n",
    "        u\"\\U000024C2-\\U0001F251\"\n",
    "                           \"]+\", flags=re.UNICODE)\n",
    "    return emoji_pattern.sub(r\"\",s)\n",
    "    "
   ]
  },
  {
   "cell_type": "markdown",
   "metadata": {},
   "source": [
    "A function to remove punctuation from a string"
   ]
  },
  {
   "cell_type": "code",
   "execution_count": 11,
   "metadata": {},
   "outputs": [],
   "source": [
    "\n",
    "def remove_punctuation(x):\n",
    "    x = str(x)\n",
    "    temp = [c for c in x if c not in string.punctuation]\n",
    "    return ''.join(temp)"
   ]
  },
  {
   "cell_type": "markdown",
   "metadata": {},
   "source": [
    "A function to remove basic english words that don't provide any valuable meaning"
   ]
  },
  {
   "cell_type": "code",
   "execution_count": 12,
   "metadata": {},
   "outputs": [],
   "source": [
    "\n",
    "def remove_stop_words(x):\n",
    "    temp = x.split()\n",
    "    temp2 =  [word for word in temp if word.lower() not in stopwords.words('english')]\n",
    "    return \" \".join(temp2)"
   ]
  },
  {
   "cell_type": "markdown",
   "metadata": {},
   "source": [
    "A function to remove digits from a string"
   ]
  },
  {
   "cell_type": "code",
   "execution_count": 13,
   "metadata": {},
   "outputs": [],
   "source": [
    "from string import digits\n",
    "def remove_num(s):\n",
    "    remove_digits = str.maketrans('', '', digits)\n",
    "    res = s.translate(remove_digits)\n",
    "    return res"
   ]
  },
  {
   "cell_type": "markdown",
   "metadata": {},
   "source": [
    "A function to remove words with number of letters > n"
   ]
  },
  {
   "cell_type": "code",
   "execution_count": 14,
   "metadata": {},
   "outputs": [],
   "source": [
    "def remove_over_n(x,n):\n",
    "    new = []\n",
    "    for item in range(len(x)-1):\n",
    "        if len(x[item]) < n:\n",
    "            new.append(x[item])\n",
    "        \n",
    "    return new    \n",
    "            "
   ]
  },
  {
   "cell_type": "markdown",
   "metadata": {},
   "source": [
    "A function to remove words with number of letters < n"
   ]
  },
  {
   "cell_type": "code",
   "execution_count": 15,
   "metadata": {},
   "outputs": [],
   "source": [
    "def remove_under_n(x,n):\n",
    "    new = []\n",
    "    for item in range(len(x)-1):\n",
    "        if len(x[item]) > n:\n",
    "            new.append(x[item])\n",
    "        \n",
    "    return new    "
   ]
  },
  {
   "cell_type": "code",
   "execution_count": 16,
   "metadata": {},
   "outputs": [
    {
     "data": {
      "text/html": [
       "<div>\n",
       "<style scoped>\n",
       "    .dataframe tbody tr th:only-of-type {\n",
       "        vertical-align: middle;\n",
       "    }\n",
       "\n",
       "    .dataframe tbody tr th {\n",
       "        vertical-align: top;\n",
       "    }\n",
       "\n",
       "    .dataframe thead th {\n",
       "        text-align: right;\n",
       "    }\n",
       "</style>\n",
       "<table border=\"1\" class=\"dataframe\">\n",
       "  <thead>\n",
       "    <tr style=\"text-align: right;\">\n",
       "      <th></th>\n",
       "      <th>sku_id</th>\n",
       "      <th>price</th>\n",
       "      <th>label_id</th>\n",
       "    </tr>\n",
       "    <tr>\n",
       "      <th>label</th>\n",
       "      <th></th>\n",
       "      <th></th>\n",
       "      <th></th>\n",
       "    </tr>\n",
       "  </thead>\n",
       "  <tbody>\n",
       "    <tr>\n",
       "      <th>Dry Dog Food</th>\n",
       "      <td>9.545084e+07</td>\n",
       "      <td>36.323218</td>\n",
       "      <td>2.0</td>\n",
       "    </tr>\n",
       "    <tr>\n",
       "      <th>Flavoured Yoghurt</th>\n",
       "      <td>6.321227e+07</td>\n",
       "      <td>4.033883</td>\n",
       "      <td>6.0</td>\n",
       "    </tr>\n",
       "    <tr>\n",
       "      <th>Men's Fragrances</th>\n",
       "      <td>1.050615e+08</td>\n",
       "      <td>61.358527</td>\n",
       "      <td>3.0</td>\n",
       "    </tr>\n",
       "    <tr>\n",
       "      <th>OUT OF SCOPE</th>\n",
       "      <td>9.950144e+07</td>\n",
       "      <td>37.778727</td>\n",
       "      <td>1.0</td>\n",
       "    </tr>\n",
       "    <tr>\n",
       "      <th>Plain Yoghurt</th>\n",
       "      <td>8.172382e+07</td>\n",
       "      <td>4.455524</td>\n",
       "      <td>7.0</td>\n",
       "    </tr>\n",
       "    <tr>\n",
       "      <th>Wet Dog Food</th>\n",
       "      <td>8.101354e+07</td>\n",
       "      <td>15.493023</td>\n",
       "      <td>5.0</td>\n",
       "    </tr>\n",
       "    <tr>\n",
       "      <th>Women's Fragrances</th>\n",
       "      <td>1.064794e+08</td>\n",
       "      <td>59.213766</td>\n",
       "      <td>4.0</td>\n",
       "    </tr>\n",
       "  </tbody>\n",
       "</table>\n",
       "</div>"
      ],
      "text/plain": [
       "                          sku_id      price  label_id\n",
       "label                                                \n",
       "Dry Dog Food        9.545084e+07  36.323218       2.0\n",
       "Flavoured Yoghurt   6.321227e+07   4.033883       6.0\n",
       "Men's Fragrances    1.050615e+08  61.358527       3.0\n",
       "OUT OF SCOPE        9.950144e+07  37.778727       1.0\n",
       "Plain Yoghurt       8.172382e+07   4.455524       7.0\n",
       "Wet Dog Food        8.101354e+07  15.493023       5.0\n",
       "Women's Fragrances  1.064794e+08  59.213766       4.0"
      ]
     },
     "execution_count": 16,
     "metadata": {},
     "output_type": "execute_result"
    }
   ],
   "source": [
    "train.groupby('label').mean()"
   ]
  },
  {
   "cell_type": "markdown",
   "metadata": {},
   "source": [
    "Above we can see an average price for each label. It seems like the price could be a good indicator to differentiate between products."
   ]
  },
  {
   "cell_type": "code",
   "execution_count": 17,
   "metadata": {},
   "outputs": [
    {
     "data": {
      "image/png": "[encoded data removed]",
      "text/plain": [
       "<Figure size 720x720 with 1 Axes>"
      ]
     },
     "metadata": {
      "needs_background": "light"
     },
     "output_type": "display_data"
    }
   ],
   "source": [
    "plt.figure(figsize=(10,10))\n",
    "plt.ylim(0,180)\n",
    "sns.boxplot(x=\"label\", y='price', data=train, palette = 'magma')\n",
    "plt.tight_layout()"
   ]
  },
  {
   "cell_type": "markdown",
   "metadata": {},
   "source": [
    "We can see that similar products like Plain and Flavoured Yoghurts have similar price distributions. The same applies for fragrances as well as dog food. However the distribution of prices for products that are labeled \"OUT OF SCOPE\" covers a wide range so it would be tricky classifying products based on price alone."
   ]
  },
  {
   "cell_type": "markdown",
   "metadata": {},
   "source": [
    "This function will be used to round the price to the nearest item in myList list. This will place products in different groups based on price. The elements of myList were chosen based on the mean price of each label."
   ]
  },
  {
   "cell_type": "code",
   "execution_count": 18,
   "metadata": {},
   "outputs": [],
   "source": [
    "myList = [2,15,30,40,60]\n",
    "def find_closest(a):\n",
    "    return min(myList, key=lambda x:abs(x-a))\n"
   ]
  },
  {
   "cell_type": "markdown",
   "metadata": {},
   "source": [
    "## Creating new features"
   ]
  },
  {
   "cell_type": "markdown",
   "metadata": {},
   "source": [
    "#### Removing punctuation, capilatization, numbers, redundant words from descriptive columns and combining all relevant descriptors in 1 list. The list for each product is then stored in a \"key_words_main\" column."
   ]
  },
  {
   "cell_type": "code",
   "execution_count": 19,
   "metadata": {},
   "outputs": [],
   "source": [
    "train['new_price'] = train[\"price\"].apply(find_closest).apply(lambda x: [str(x)])"
   ]
  },
  {
   "cell_type": "code",
   "execution_count": 20,
   "metadata": {},
   "outputs": [
    {
     "data": {
      "text/plain": [
       "0       [qtips, cotton, swabs, wide, variety, uses, in...\n",
       "1       [description, petmate, deluxe, fresh, flow, re...\n",
       "2       [net, content, grams, lifestyle, suitable, veg...\n",
       "3       [description, specs, includes, deet, formula, ...\n",
       "4       [natures, answer, capsules, feature, highest, ...\n",
       "                              ...                        \n",
       "3978                                        [hand, towel]\n",
       "3979    [goyangijelri, taste, jelly, tuna, shrimp, piece]\n",
       "3980                                           [fragrant]\n",
       "3981                                [brushes, disposable]\n",
       "3982    [burberry, british, rhythm, floral, eau, toile...\n",
       "Name: description_list, Length: 3983, dtype: object"
      ]
     },
     "execution_count": 20,
     "metadata": {},
     "output_type": "execute_result"
    }
   ],
   "source": [
    "train[\"description_list\"] = train[\"description_t_short\"].apply(remove_num).apply(remove_emoji).apply(remove_punctuation).apply(remove_stop_words).apply(lambda x: x.split(' '))\n",
    "train['description_list'].apply(lambda x: remove_over_n(x,15)).apply(lambda x: remove_under_n(x,2))"
   ]
  },
  {
   "cell_type": "code",
   "execution_count": 21,
   "metadata": {},
   "outputs": [],
   "source": [
    "train[\"crumbList\"] = train[\"breadcrumbs_t\"].replace(',',' ').apply(remove_punctuation).apply(remove_stop_words).apply(lambda x: x.lower()).apply(lambda x: x.split(' '))"
   ]
  },
  {
   "cell_type": "code",
   "execution_count": 22,
   "metadata": {},
   "outputs": [],
   "source": [
    "train[\"country_list\"] = train['country_name'].apply(lambda x: [x.lower()])"
   ]
  },
  {
   "cell_type": "code",
   "execution_count": 23,
   "metadata": {},
   "outputs": [],
   "source": [
    "train[\"retailer_list\"] = train['retailer'].apply(lambda x: [x.lower()])"
   ]
  },
  {
   "cell_type": "code",
   "execution_count": 24,
   "metadata": {},
   "outputs": [],
   "source": [
    "train['name_to-list'] = train[\"name_t\"].apply(remove_punctuation).apply(remove_stop_words).apply(lambda x: x.lower().split(' '))"
   ]
  },
  {
   "cell_type": "markdown",
   "metadata": {},
   "source": [
    "### Combining all lists into one"
   ]
  },
  {
   "cell_type": "code",
   "execution_count": 25,
   "metadata": {},
   "outputs": [],
   "source": [
    "train['key_words_main'] = train[\"description_list\"] + train[\"crumbList\"] +train[\"country_list\"]+train[\"retailer_list\"]+train[\"new_price\"]"
   ]
  },
  {
   "cell_type": "code",
   "execution_count": 26,
   "metadata": {},
   "outputs": [],
   "source": [
    "#train[\"final\"]=train[\"key_words_main\"].apply(lambda x: remove_over_n(x,15)).apply(lambda x: remove_under_n(x,2))"
   ]
  },
  {
   "cell_type": "markdown",
   "metadata": {},
   "source": [
    "### Create same features for the test data frame"
   ]
  },
  {
   "cell_type": "code",
   "execution_count": 27,
   "metadata": {},
   "outputs": [],
   "source": [
    "test['new_price'] = test[\"price\"].apply(find_closest).apply(lambda x: [str(x)])"
   ]
  },
  {
   "cell_type": "code",
   "execution_count": 28,
   "metadata": {},
   "outputs": [
    {
     "data": {
      "text/plain": [
       "0      [fast, free, shipping, unique, aneeq, branded,...\n",
       "1      [description, specs, lint, roller, made, scotc...\n",
       "2      [information, description, dried, yeast, essen...\n",
       "3      [dispose, used, blades, safely, cutting, perfo...\n",
       "4      [Guide, Gear, Mens, Nylon, Snake, Boots, Water...\n",
       "                             ...                        \n",
       "990                 [mouthpiece, guard, iagmulgi, teeth]\n",
       "991    [heater, cartridge, waxy, provide, team, neces...\n",
       "992    [Hangsun, Idropulsore, dental, HOC, Profession...\n",
       "993    [znaiu, ostanovishsia, way, great, pobedam, sc...\n",
       "994    [Reusable, Menstrual, Cup, Sizes, Pack, Pink, ...\n",
       "Name: description_list, Length: 995, dtype: object"
      ]
     },
     "execution_count": 28,
     "metadata": {},
     "output_type": "execute_result"
    }
   ],
   "source": [
    "test[\"description_list\"] = test[\"description_t_short\"].apply(remove_num).apply(remove_emoji).apply(remove_punctuation).apply(remove_stop_words).apply(lambda x: x.split(' '))\n",
    "test['description_list'].apply(lambda x: remove_over_n(x,15)).apply(lambda x: remove_under_n(x,2))"
   ]
  },
  {
   "cell_type": "code",
   "execution_count": 29,
   "metadata": {},
   "outputs": [],
   "source": [
    "test[\"crumbList\"] = test[\"breadcrumbs_t\"].replace(',',' ').apply(remove_punctuation).apply(remove_stop_words).apply(lambda x: x.lower()).apply(lambda x: x.split(' '))"
   ]
  },
  {
   "cell_type": "code",
   "execution_count": 30,
   "metadata": {},
   "outputs": [],
   "source": [
    "test[\"country_list\"] = test['country_name'].apply(lambda x: [x.lower()])"
   ]
  },
  {
   "cell_type": "code",
   "execution_count": 31,
   "metadata": {},
   "outputs": [],
   "source": [
    "test[\"retailer_list\"] = test['retailer'].apply(lambda x: [x.lower()])"
   ]
  },
  {
   "cell_type": "code",
   "execution_count": 32,
   "metadata": {},
   "outputs": [],
   "source": [
    "test['name_to-list'] = test[\"name_t\"].apply(remove_punctuation).apply(remove_stop_words).apply(lambda x: x.lower().split(' '))"
   ]
  },
  {
   "cell_type": "code",
   "execution_count": 33,
   "metadata": {},
   "outputs": [],
   "source": [
    "test['key_words_main'] = test[\"description_list\"] + test[\"crumbList\"] +test[\"country_list\"]+test[\"retailer_list\"]+test[\"new_price\"]"
   ]
  },
  {
   "cell_type": "markdown",
   "metadata": {},
   "source": [
    "# Vectorization"
   ]
  },
  {
   "cell_type": "code",
   "execution_count": 34,
   "metadata": {},
   "outputs": [],
   "source": [
    "from sklearn.feature_extraction.text import CountVectorizer"
   ]
  },
  {
   "cell_type": "markdown",
   "metadata": {},
   "source": [
    "Here the label_id is our target variable and the key_words_main attribute is the predictor."
   ]
  },
  {
   "cell_type": "code",
   "execution_count": 35,
   "metadata": {},
   "outputs": [],
   "source": [
    "y_train = train['label_id']\n",
    "X_train = train[\"key_words_main\"]\n",
    "\n",
    "X_test = test['key_words_main']\n"
   ]
  },
  {
   "cell_type": "code",
   "execution_count": 36,
   "metadata": {},
   "outputs": [],
   "source": [
    "cv = CountVectorizer(analyzer=lambda x: x)"
   ]
  },
  {
   "cell_type": "code",
   "execution_count": 37,
   "metadata": {},
   "outputs": [],
   "source": [
    "X_train = cv.fit_transform(X_train)\n",
    "X_test = cv.transform(X_test)"
   ]
  },
  {
   "cell_type": "code",
   "execution_count": 38,
   "metadata": {},
   "outputs": [],
   "source": [
    "#from sklearn.model_selection import train_test_split"
   ]
  },
  {
   "cell_type": "code",
   "execution_count": 39,
   "metadata": {},
   "outputs": [],
   "source": [
    "#X_train, X_test, y_train, y_test = train_test_split(X, y, test_size=0.3, random_state=42)"
   ]
  },
  {
   "cell_type": "markdown",
   "metadata": {},
   "source": [
    "# Train a model"
   ]
  },
  {
   "cell_type": "code",
   "execution_count": 40,
   "metadata": {},
   "outputs": [],
   "source": [
    "from sklearn.naive_bayes import MultinomialNB"
   ]
  },
  {
   "cell_type": "code",
   "execution_count": 41,
   "metadata": {},
   "outputs": [],
   "source": [
    "nb = MultinomialNB()"
   ]
  },
  {
   "cell_type": "code",
   "execution_count": 42,
   "metadata": {},
   "outputs": [
    {
     "data": {
      "text/plain": [
       "MultinomialNB()"
      ]
     },
     "execution_count": 42,
     "metadata": {},
     "output_type": "execute_result"
    }
   ],
   "source": [
    "nb.fit(X_train,y_train)"
   ]
  },
  {
   "cell_type": "markdown",
   "metadata": {},
   "source": [
    "# Predictions and Evaluations"
   ]
  },
  {
   "cell_type": "code",
   "execution_count": 43,
   "metadata": {},
   "outputs": [],
   "source": [
    "predictions = nb.predict(X_test)"
   ]
  },
  {
   "cell_type": "code",
   "execution_count": 44,
   "metadata": {},
   "outputs": [],
   "source": [
    "#from sklearn.metrics import confusion_matrix, classification_report"
   ]
  },
  {
   "cell_type": "code",
   "execution_count": 45,
   "metadata": {},
   "outputs": [],
   "source": [
    "#print(classification_report(y_test,predictions))"
   ]
  },
  {
   "cell_type": "code",
   "execution_count": 46,
   "metadata": {},
   "outputs": [],
   "source": [
    "test_pred_template = pd.read_csv(\"test_pred_template.csv\")"
   ]
  },
  {
   "cell_type": "code",
   "execution_count": 47,
   "metadata": {},
   "outputs": [
    {
     "data": {
      "text/html": [
       "<div>\n",
       "<style scoped>\n",
       "    .dataframe tbody tr th:only-of-type {\n",
       "        vertical-align: middle;\n",
       "    }\n",
       "\n",
       "    .dataframe tbody tr th {\n",
       "        vertical-align: top;\n",
       "    }\n",
       "\n",
       "    .dataframe thead th {\n",
       "        text-align: right;\n",
       "    }\n",
       "</style>\n",
       "<table border=\"1\" class=\"dataframe\">\n",
       "  <thead>\n",
       "    <tr style=\"text-align: right;\">\n",
       "      <th></th>\n",
       "      <th>sku_id</th>\n",
       "      <th>label_id</th>\n",
       "    </tr>\n",
       "  </thead>\n",
       "  <tbody>\n",
       "    <tr>\n",
       "      <th>0</th>\n",
       "      <td>193691</td>\n",
       "      <td>NaN</td>\n",
       "    </tr>\n",
       "    <tr>\n",
       "      <th>1</th>\n",
       "      <td>194042</td>\n",
       "      <td>NaN</td>\n",
       "    </tr>\n",
       "    <tr>\n",
       "      <th>2</th>\n",
       "      <td>225668</td>\n",
       "      <td>NaN</td>\n",
       "    </tr>\n",
       "    <tr>\n",
       "      <th>3</th>\n",
       "      <td>351205</td>\n",
       "      <td>NaN</td>\n",
       "    </tr>\n",
       "    <tr>\n",
       "      <th>4</th>\n",
       "      <td>374160</td>\n",
       "      <td>NaN</td>\n",
       "    </tr>\n",
       "    <tr>\n",
       "      <th>...</th>\n",
       "      <td>...</td>\n",
       "      <td>...</td>\n",
       "    </tr>\n",
       "    <tr>\n",
       "      <th>990</th>\n",
       "      <td>271665484</td>\n",
       "      <td>NaN</td>\n",
       "    </tr>\n",
       "    <tr>\n",
       "      <th>991</th>\n",
       "      <td>275348804</td>\n",
       "      <td>NaN</td>\n",
       "    </tr>\n",
       "    <tr>\n",
       "      <th>992</th>\n",
       "      <td>275400954</td>\n",
       "      <td>NaN</td>\n",
       "    </tr>\n",
       "    <tr>\n",
       "      <th>993</th>\n",
       "      <td>276209365</td>\n",
       "      <td>NaN</td>\n",
       "    </tr>\n",
       "    <tr>\n",
       "      <th>994</th>\n",
       "      <td>276438064</td>\n",
       "      <td>NaN</td>\n",
       "    </tr>\n",
       "  </tbody>\n",
       "</table>\n",
       "<p>995 rows × 2 columns</p>\n",
       "</div>"
      ],
      "text/plain": [
       "        sku_id  label_id\n",
       "0       193691       NaN\n",
       "1       194042       NaN\n",
       "2       225668       NaN\n",
       "3       351205       NaN\n",
       "4       374160       NaN\n",
       "..         ...       ...\n",
       "990  271665484       NaN\n",
       "991  275348804       NaN\n",
       "992  275400954       NaN\n",
       "993  276209365       NaN\n",
       "994  276438064       NaN\n",
       "\n",
       "[995 rows x 2 columns]"
      ]
     },
     "execution_count": 47,
     "metadata": {},
     "output_type": "execute_result"
    }
   ],
   "source": [
    "test_pred_template"
   ]
  },
  {
   "cell_type": "code",
   "execution_count": 48,
   "metadata": {},
   "outputs": [
    {
     "data": {
      "text/plain": [
       "array([1, 1, 1, 1, 1, 1, 1, 1, 1, 1, 1, 1, 1, 1, 1, 1, 1, 1, 1, 1, 1, 1,\n",
       "       1, 1, 1, 1, 1, 1, 1, 1, 1, 1, 1, 1, 1, 1, 1, 1, 1, 1, 1, 1, 1, 1,\n",
       "       1, 1, 1, 1, 1, 1, 1, 1, 1, 1, 1, 1, 1, 1, 1, 1, 1, 1, 1, 1, 1, 1,\n",
       "       1, 1, 1, 1, 1, 1, 1, 1, 1, 1, 3, 1, 1, 1, 1, 1, 1, 1, 1, 1, 1, 2,\n",
       "       1, 1, 1, 1, 1, 1, 1, 1, 1, 1, 1, 1, 1, 1, 1, 1, 1, 1, 1, 1, 1, 1,\n",
       "       1, 1, 1, 1, 3, 1, 1, 1, 1, 1, 1, 1, 1, 1, 1, 1, 1, 1, 1, 1, 1, 1,\n",
       "       1, 2, 1, 1, 1, 1, 1, 1, 3, 1, 1, 1, 1, 4, 1, 1, 1, 1, 1, 1, 1, 1,\n",
       "       1, 1, 1, 1, 1, 1, 1, 1, 1, 1, 1, 1, 1, 1, 1, 1, 1, 1, 1, 1, 1, 1,\n",
       "       1, 1, 1, 1, 1, 1, 3, 1, 1, 1, 1, 1, 1, 1, 1, 1, 1, 1, 1, 1, 1, 1,\n",
       "       1, 1, 1, 1, 1, 1, 1, 1, 1, 1, 3, 1, 3, 1, 1, 1, 1, 1, 2, 1, 1, 1,\n",
       "       1, 1, 1, 1, 1, 1, 1, 1, 1, 1, 1, 1, 1, 1, 1, 1, 1, 1, 4, 1, 1, 1,\n",
       "       1, 1, 1, 1, 1, 1, 1, 1, 1, 1, 1, 1, 1, 1, 1, 1, 1, 1, 1, 1, 1, 1,\n",
       "       1, 1, 1, 1, 1, 1, 1, 3, 1, 1, 1, 1, 4, 1, 1, 1, 1, 1, 1, 1, 1, 1,\n",
       "       1, 6, 1, 1, 1, 1, 1, 1, 1, 1, 3, 1, 6, 1, 1, 1, 1, 1, 1, 4, 4, 1,\n",
       "       1, 1, 1, 3, 1, 1, 1, 1, 1, 1, 1, 1, 1, 4, 1, 1, 1, 1, 1, 1, 1, 1,\n",
       "       1, 1, 1, 1, 1, 1, 1, 1, 1, 1, 1, 1, 1, 1, 2, 3, 3, 1, 3, 1, 1, 1,\n",
       "       1, 1, 1, 1, 3, 1, 4, 1, 1, 1, 1, 7, 1, 1, 1, 1, 1, 2, 1, 1, 1, 1,\n",
       "       1, 1, 1, 1, 1, 1, 1, 1, 1, 1, 1, 1, 1, 1, 1, 1, 1, 1, 1, 1, 1, 1,\n",
       "       1, 7, 4, 1, 1, 1, 1, 1, 1, 1, 1, 1, 1, 1, 1, 1, 1, 1, 1, 1, 1, 1,\n",
       "       1, 1, 1, 1, 4, 1, 1, 1, 1, 1, 1, 1, 1, 3, 1, 1, 1, 1, 1, 1, 1, 1,\n",
       "       1, 1, 1, 1, 1, 1, 1, 1, 1, 1, 1, 1, 1, 1, 4, 1, 1, 1, 1, 1, 1, 1,\n",
       "       1, 1, 1, 4, 1, 1, 1, 1, 1, 4, 1, 1, 1, 1, 1, 1, 1, 1, 1, 1, 1, 1,\n",
       "       1, 1, 1, 1, 1, 1, 4, 1, 1, 1, 1, 1, 1, 1, 1, 1, 1, 1, 1, 1, 1, 1,\n",
       "       1, 1, 1, 1, 1, 1, 1, 1, 1, 1, 1, 1, 1, 6, 1, 1, 1, 1, 4, 1, 1, 1,\n",
       "       1, 1, 1, 1, 1, 1, 1, 1, 1, 1, 1, 1, 1, 1, 1, 1, 3, 1, 1, 1, 1, 1,\n",
       "       3, 1, 1, 1, 1, 1, 1, 1, 1, 1, 1, 1, 1, 1, 1, 1, 1, 1, 1, 1, 1, 1,\n",
       "       4, 1, 1, 1, 1, 1, 1, 1, 1, 1, 1, 1, 1, 1, 1, 1, 1, 1, 1, 1, 1, 1,\n",
       "       1, 1, 1, 1, 1, 1, 1, 1, 1, 1, 1, 4, 1, 1, 1, 1, 1, 1, 1, 1, 1, 1,\n",
       "       1, 1, 1, 1, 1, 1, 1, 1, 1, 4, 1, 1, 1, 1, 1, 1, 4, 1, 1, 3, 1, 1,\n",
       "       1, 1, 1, 1, 1, 1, 1, 1, 1, 1, 1, 1, 1, 1, 1, 1, 1, 1, 1, 1, 1, 1,\n",
       "       1, 1, 1, 1, 1, 1, 1, 1, 1, 1, 1, 1, 1, 1, 1, 1, 1, 1, 1, 1, 1, 1,\n",
       "       1, 1, 1, 1, 1, 1, 1, 1, 1, 1, 3, 1, 1, 1, 1, 1, 1, 1, 1, 1, 1, 1,\n",
       "       1, 1, 1, 1, 1, 1, 1, 1, 1, 1, 1, 1, 1, 1, 1, 1, 3, 1, 1, 1, 1, 1,\n",
       "       1, 3, 1, 1, 1, 1, 1, 1, 1, 1, 1, 1, 1, 1, 1, 1, 2, 1, 1, 1, 1, 1,\n",
       "       1, 1, 1, 1, 2, 1, 1, 3, 1, 1, 2, 1, 3, 1, 1, 3, 1, 1, 1, 1, 1, 3,\n",
       "       1, 1, 1, 1, 1, 1, 1, 4, 1, 1, 1, 1, 1, 4, 1, 1, 1, 1, 1, 1, 1, 1,\n",
       "       1, 1, 1, 1, 1, 4, 1, 3, 2, 1, 1, 1, 1, 1, 4, 1, 1, 1, 1, 1, 1, 1,\n",
       "       1, 1, 1, 1, 1, 1, 1, 1, 1, 1, 1, 1, 1, 1, 1, 1, 1, 1, 1, 1, 1, 1,\n",
       "       4, 1, 1, 1, 1, 1, 4, 1, 1, 1, 1, 1, 1, 1, 1, 3, 1, 1, 1, 1, 1, 1,\n",
       "       1, 1, 1, 1, 1, 1, 1, 1, 1, 1, 1, 1, 1, 1, 1, 1, 1, 1, 1, 1, 1, 1,\n",
       "       1, 1, 1, 1, 1, 1, 3, 1, 1, 7, 1, 1, 1, 1, 1, 1, 1, 1, 1, 4, 1, 1,\n",
       "       1, 1, 1, 1, 1, 1, 1, 1, 1, 1, 1, 1, 1, 1, 1, 1, 1, 1, 1, 1, 1, 4,\n",
       "       1, 1, 1, 1, 1, 4, 1, 1, 3, 1, 1, 1, 1, 1, 1, 1, 1, 1, 1, 1, 1, 1,\n",
       "       1, 1, 1, 1, 1, 1, 1, 1, 1, 1, 1, 1, 1, 1, 1, 1, 1, 1, 1, 1, 1, 1,\n",
       "       1, 1, 1, 1, 1, 1, 1, 1, 1, 1, 1, 1, 1, 1, 1, 1, 1, 1, 1, 1, 1, 1,\n",
       "       1, 1, 1, 1, 1], dtype=int64)"
      ]
     },
     "execution_count": 48,
     "metadata": {},
     "output_type": "execute_result"
    }
   ],
   "source": [
    "predictions"
   ]
  },
  {
   "cell_type": "code",
   "execution_count": 49,
   "metadata": {},
   "outputs": [],
   "source": [
    "test[\"label_id\"] = predictions\n",
    "test_pred = test[[\"sku_id\", 'label_id']]\n",
    "test_pred.to_csv(\"test-pred.csv\",index=False)"
   ]
  },
  {
   "cell_type": "markdown",
   "metadata": {},
   "source": [
    "# Conclusion\n",
    "\n",
    "As we can see the model has classified most of the products into group 1. This is most likely due to an imbalanced training data. \n",
    "\n",
    "Some ways to improve the model:\n",
    "* Collecting more data\n",
    "* Trying a more sophisticated algorithms than Naive Bayes.\n",
    "* Resampling data-set to add more copies of instances from the under-represented classes\n",
    "* Explore the data in more depth to create better features.\n",
    "    "
   ]
  },
  {
   "cell_type": "code",
   "execution_count": 50,
   "metadata": {},
   "outputs": [
    {
     "data": {
      "text/plain": [
       "<AxesSubplot:xlabel='label_id', ylabel='count'>"
      ]
     },
     "execution_count": 50,
     "metadata": {},
     "output_type": "execute_result"
    },
    {
     "data": {
      "image/png": "[encoded data removed]",
      "text/plain": [
       "<Figure size 432x288 with 1 Axes>"
      ]
     },
     "metadata": {
      "needs_background": "light"
     },
     "output_type": "display_data"
    }
   ],
   "source": [
    "sns.countplot(data=test, x='label_id')"
   ]
  }
 ],
 "metadata": {
  "kernelspec": {
   "display_name": "Python 3",
   "language": "python",
   "name": "python3"
  },
  "language_info": {
   "codemirror_mode": {
    "name": "ipython",
    "version": 3
   },
   "file_extension": ".py",
   "mimetype": "text/x-python",
   "name": "python",
   "nbconvert_exporter": "python",
   "pygments_lexer": "ipython3",
   "version": "3.8.5"
  }
 },
 "nbformat": 4,
 "nbformat_minor": 4
}
